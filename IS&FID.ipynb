{
 "cells": [
  {
   "cell_type": "code",
   "execution_count": 1,
   "metadata": {},
   "outputs": [],
   "source": [
    "import os\n",
    "import torch\n",
    "import numpy as np\n",
    "# from networks.Attn_SN_network import Generator\n",
    "# from networks.SN_network import Generator\n",
    "from networks.CNN_network import Generator\n",
    "# from networks.ResNet_network import Generator\n",
    "from utils.utils import denorm"
   ]
  },
  {
   "cell_type": "markdown",
   "metadata": {},
   "source": [
    "# CIFAR10"
   ]
  },
  {
   "cell_type": "code",
   "execution_count": 2,
   "metadata": {},
   "outputs": [],
   "source": [
    "# save_path = './output/'\n",
    "\n",
    "# dataset = 'cifar'\n",
    "# image_path = '~/Datasets/CIFAR10/'\n",
    "# imsize = 32"
   ]
  },
  {
   "cell_type": "markdown",
   "metadata": {},
   "source": [
    "# STL-10"
   ]
  },
  {
   "cell_type": "code",
   "execution_count": 3,
   "metadata": {},
   "outputs": [],
   "source": [
    "save_path = './output/'\n",
    "\n",
    "dataset = 'stl10'  # 'mnist', 'cifar', 'lsun', 'celeb', 'stl10'\n",
    "image_path = '~/Datasets/STL-10/'  # '/media/v/data1/MNIST', '/media/v/data1/cifar10/', '/media/v/data1/LSUN', '/media/v/data1/CelebA'\n",
    "imsize = 96"
   ]
  },
  {
   "cell_type": "code",
   "execution_count": 4,
   "metadata": {},
   "outputs": [],
   "source": [
    "model_save_path = save_path + '/models'\n",
    "\n",
    "channel = 3\n",
    "z_dim = 64\n",
    "g_conv_dim = 64"
   ]
  },
  {
   "cell_type": "markdown",
   "metadata": {},
   "source": [
    "## 1. Compute Inception Score"
   ]
  },
  {
   "cell_type": "code",
   "execution_count": 5,
   "metadata": {
    "scrolled": true
   },
   "outputs": [],
   "source": [
    "# from utils.inception_score import get_inception_score\n",
    "\n",
    "# pretrained_model = 300000\n",
    "\n",
    "# # fake_images (get with CPU)\n",
    "# z = torch.randn(samples_num, z_dim)#.cuda()\n",
    "# G = Generator(imsize, z_dim, channel, g_conv_dim)#.cuda()\n",
    "# G.load_state_dict(torch.load(os.path.join(model_save_path, 'G_step{}.pth'.format(pretrained_model))))\n",
    "# with torch.no_grad():\n",
    "#     fake_images = G(z) #[-1, 1]\n",
    "    \n",
    "# (mean, std) = get_inception_score(denorm(fake_images).mul(255).clamp(0, 255).byte().permute(0,2,3,1).numpy())"
   ]
  },
  {
   "cell_type": "code",
   "execution_count": 6,
   "metadata": {
    "scrolled": true
   },
   "outputs": [],
   "source": [
    "# print('Inception Score: ' + str(round(mean,2)) + '±' + str(round(std,2)))"
   ]
  },
  {
   "cell_type": "markdown",
   "metadata": {},
   "source": [
    "## 2. Compute fid"
   ]
  },
  {
   "cell_type": "code",
   "execution_count": 7,
   "metadata": {
    "scrolled": false
   },
   "outputs": [
    {
     "name": "stdout",
     "output_type": "stream",
     "text": [
      "iters\t\t\tFID\n",
      "200000\t\t51.67\n"
     ]
    }
   ],
   "source": [
    "from utils.fid_pytorch import get_fid_pytorch\n",
    "\n",
    "pretrained_model =  [200000]#, 40000, 60000, 80000, 100000]\n",
    "FIDs = []\n",
    "\n",
    "print('iters\\t\\t\\tFID')\n",
    "\n",
    "for i in range(len(pretrained_model)):\n",
    "    # fake_images\n",
    "    fake_images = np.empty((0, channel, imsize, imsize))\n",
    "    G = Generator(imsize, z_dim, channel, g_conv_dim).cuda()\n",
    "    G.load_state_dict(torch.load(os.path.join(model_save_path, 'G_step{}.pth'.format(pretrained_model[i]))))\n",
    "    for j in range(20): # generate 50K\n",
    "        z = torch.randn(1000, z_dim).cuda()        \n",
    "        with torch.no_grad():\n",
    "            fake_image_2K = G(z).cpu().numpy() #[-1, 1]\n",
    "        fake_images = np.vstack((fake_images, fake_image_2K))\n",
    "    \n",
    "    \n",
    "    # real_images\n",
    "    from utils.data_loader import Data_Loader \n",
    "    data_loader = Data_Loader(dataset = dataset, image_path = image_path, image_size = imsize, batch_size = 20000, shuf = True)\n",
    "    data_iter = iter(data_loader.loader())\n",
    "    real_images, _ = next(data_iter)\n",
    "    \n",
    "    fid_pytorch = get_fid_pytorch(real_images.numpy(), fake_images.astype(np.float32))\n",
    "    FIDs.append(fid_pytorch)\n",
    "    \n",
    "    print(str(pretrained_model[i]) + '\\t\\t' + str(round(fid_pytorch,2)))"
   ]
  }
 ],
 "metadata": {
  "kernelspec": {
   "display_name": "Python 3",
   "language": "python",
   "name": "python3"
  },
  "language_info": {
   "codemirror_mode": {
    "name": "ipython",
    "version": 3
   },
   "file_extension": ".py",
   "mimetype": "text/x-python",
   "name": "python",
   "nbconvert_exporter": "python",
   "pygments_lexer": "ipython3",
   "version": "3.7.1"
  }
 },
 "nbformat": 4,
 "nbformat_minor": 2
}
