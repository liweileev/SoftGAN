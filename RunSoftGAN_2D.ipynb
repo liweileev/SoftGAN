{
 "cells": [
  {
   "cell_type": "code",
   "execution_count": 1,
   "metadata": {},
   "outputs": [],
   "source": [
    "import numpy as np\n",
    "from torch.backends import cudnn\n",
    "from utils.utils import make_folder\n",
    "from utils.utils import Configuration\n",
    "from models import SoftGAN_toy2D_model\n",
    "from networks import toy2D_network\n",
    "import time\n",
    "import math"
   ]
  },
  {
   "cell_type": "code",
   "execution_count": 2,
   "metadata": {},
   "outputs": [],
   "source": [
    "total_step = 25000\n",
    "batch_size = 512\n",
    "\n",
    "num_mixtures = 8\n",
    "std = 0.02\n",
    "radius = 2.0\n",
    "\n",
    "# circular data:\n",
    "data_shape = 'circle'\n",
    "thetas = np.linspace(0, 2 * np.pi, num_mixtures + 1)[:num_mixtures]\n",
    "xs, ys = radius * np.sin(thetas), radius * np.cos(thetas)\n",
    "\n",
    "# # grid data:\n",
    "# data_shape = 'grid'\n",
    "# thetas = np.linspace(0, math.sqrt(num_mixtures), int(math.sqrt(num_mixtures)) + 1)[:int(math.sqrt(num_mixtures))]\n",
    "# xs, ys = radius * np.repeat(thetas, int(math.sqrt(num_mixtures))), radius * np.tile(thetas, int(math.sqrt(num_mixtures)))\n",
    "\n",
    "# # spiral:\n",
    "# thetas = np.linspace(0, 3 * np.pi, num_mixtures + 1)[:num_mixtures]\n",
    "# xs, ys = (1 + 0.5 * thetas) * np.cos(thetas), (1 + 0.5 * thetas) * np.sin(thetas)\n",
    "\n",
    "cudnn.benchmark = True"
   ]
  },
  {
   "cell_type": "code",
   "execution_count": 3,
   "metadata": {},
   "outputs": [],
   "source": [
    "version = 'SoftGAN_toy2D_' + data_shape + '_' + str(total_step) + 'iters_' + str(time.strftime(\"%Y-%m-%d %H:%M:%S\", time.localtime()))\n",
    "model_save_path = './output/'+version+'/models'\n",
    "loss_save_path = './output/' + version + '/loss'\n",
    "sample_path = './output/'+version+'/samples'\n",
    "\n",
    "# Create directories if not exist\n",
    "make_folder(path = model_save_path)\n",
    "make_folder(path = loss_save_path)\n",
    "make_folder(path = sample_path)"
   ]
  },
  {
   "cell_type": "code",
   "execution_count": 4,
   "metadata": {
    "scrolled": false
   },
   "outputs": [
    {
     "name": "stdout",
     "output_type": "stream",
     "text": [
      "Initialization parameters of Generator & Discriminator successfully.\n",
      "Initialization optimizers of Generator & Discriminator successfully.\n"
     ]
    }
   ],
   "source": [
    "# Training configures\n",
    "configs = {    \n",
    "    'z_dim': 256,\n",
    "    'h_dim': 128, \n",
    "    'beta': 1.0,\n",
    "    'mix_coeffs': tuple([1 / num_mixtures] * num_mixtures),\n",
    "    'mean': tuple(zip(xs, ys)),\n",
    "    'cov': tuple([(std, std)] * num_mixtures),\n",
    "    'num_samples': 512,\n",
    "    'batch_size': batch_size,\n",
    "    'total_step': total_step,\n",
    "    'log_step': 1000,\n",
    "    'sample_step': 5000,\n",
    "    'model_save_step': 5000,\n",
    "    'g_lr': 0.001,\n",
    "    'd_lr': 0.001,\n",
    "    'lr_decay': 0.95,\n",
    "    'beta1': 0.9,\n",
    "    'beta2': 0.999,\n",
    "    'version': version,\n",
    "    'parallel': False,\n",
    "    'printnet': False,\n",
    "    'pretrained_model': None,\n",
    "    'model_save_path': model_save_path,\n",
    "    'sample_path': sample_path,\n",
    "    'loss_save_path': loss_save_path\n",
    "}\n",
    "\n",
    "trainer = SoftGAN_toy2D_model.Trainer(Configuration(configs))"
   ]
  },
  {
   "cell_type": "code",
   "execution_count": null,
   "metadata": {},
   "outputs": [
    {
     "data": {
      "application/vnd.jupyter.widget-view+json": {
       "model_id": "479befe8bf6d4ce493612df1bb635243",
       "version_major": 2,
       "version_minor": 0
      },
      "text/plain": [
       "HBox(children=(IntProgress(value=0, max=25000), HTML(value='')))"
      ]
     },
     "metadata": {},
     "output_type": "display_data"
    },
    {
     "name": "stdout",
     "output_type": "stream",
     "text": [
      "Elapsed [0:00:05.033815], step [1000/25000], d_loss: -1.4288, g_loss: -0.3772\n",
      "Elapsed [0:00:09.872720], step [2000/25000], d_loss: -1.4267, g_loss: -0.4207\n",
      "Elapsed [0:00:14.745707], step [3000/25000], d_loss: -1.3480, g_loss: -0.4582\n",
      "Elapsed [0:00:19.633550], step [4000/25000], d_loss: -1.3921, g_loss: -0.4495\n",
      "Elapsed [0:00:24.500002], step [5000/25000], d_loss: -1.4031, g_loss: -0.4836\n",
      "Elapsed [0:00:29.597828], step [6000/25000], d_loss: -1.4500, g_loss: -0.4634\n",
      "Elapsed [0:00:34.478410], step [7000/25000], d_loss: -1.3449, g_loss: -0.4780\n",
      "Elapsed [0:00:39.408816], step [8000/25000], d_loss: -1.4117, g_loss: -0.4710\n",
      "Elapsed [0:00:44.388488], step [9000/25000], d_loss: -1.3812, g_loss: -0.4555\n",
      "Elapsed [0:00:49.385739], step [10000/25000], d_loss: -1.5147, g_loss: -0.4029\n",
      "Elapsed [0:00:54.667228], step [11000/25000], d_loss: -1.4218, g_loss: -0.4445\n",
      "Elapsed [0:00:59.627784], step [12000/25000], d_loss: -1.4747, g_loss: -0.4051\n",
      "Elapsed [0:01:04.598553], step [13000/25000], d_loss: -1.3277, g_loss: -0.5088\n",
      "Elapsed [0:01:09.589001], step [14000/25000], d_loss: -1.4461, g_loss: -0.4305\n",
      "Elapsed [0:01:14.582200], step [15000/25000], d_loss: -1.3846, g_loss: -0.4755\n",
      "Elapsed [0:01:19.811065], step [16000/25000], d_loss: -1.3698, g_loss: -0.4776\n",
      "Elapsed [0:01:24.801034], step [17000/25000], d_loss: -1.3663, g_loss: -0.4770\n",
      "Elapsed [0:01:29.793896], step [18000/25000], d_loss: -1.3866, g_loss: -0.4448\n",
      "Elapsed [0:01:34.797215], step [19000/25000], d_loss: -1.4141, g_loss: -0.4511\n",
      "Elapsed [0:01:39.783217], step [20000/25000], d_loss: -1.3768, g_loss: -0.4935\n",
      "Elapsed [0:01:45.004877], step [21000/25000], d_loss: -1.4733, g_loss: -0.4195\n",
      "Elapsed [0:01:50.003395], step [22000/25000], d_loss: -1.3783, g_loss: -0.4588\n",
      "Elapsed [0:01:54.995367], step [23000/25000], d_loss: -1.3748, g_loss: -0.4343\n",
      "Elapsed [0:01:59.996769], step [24000/25000], d_loss: -1.3989, g_loss: -0.4541\n"
     ]
    }
   ],
   "source": [
    "trainer.train()"
   ]
  }
 ],
 "metadata": {
  "kernelspec": {
   "display_name": "Python 3",
   "language": "python",
   "name": "python3"
  },
  "language_info": {
   "codemirror_mode": {
    "name": "ipython",
    "version": 3
   },
   "file_extension": ".py",
   "mimetype": "text/x-python",
   "name": "python",
   "nbconvert_exporter": "python",
   "pygments_lexer": "ipython3",
   "version": "3.6.7"
  }
 },
 "nbformat": 4,
 "nbformat_minor": 2
}
